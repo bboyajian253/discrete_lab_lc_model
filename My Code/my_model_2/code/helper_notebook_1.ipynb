{
 "cells": [
  {
   "cell_type": "code",
   "execution_count": 2,
   "metadata": {},
   "outputs": [
    {
     "name": "stdout",
     "output_type": "stream",
     "text": [
      "[10. 20. 30.]\n",
      "state grid:  [10. 20. 30.]\n",
      "probs:  [0.5        0.47724987 0.02275013]\n",
      "mean:  15.227501319481792\n",
      "std_dev:  5.431230941441349\n"
     ]
    }
   ],
   "source": [
    "import my_toolbox as tb\n",
    "import numpy as np\n",
    "import model_no_uncert as model\n",
    "import model_no_uncert as model\n",
    "import numpy as np\n",
    "from pars_shocks_and_wages import Pars\n",
    "import time\n",
    "my_mean = 15.0\n",
    "my_std_dev = 5.0\n",
    "my_num_grid_points = 3\n",
    "my_grid_min = 10.0\n",
    "my_grid_max = 30.0\n",
    "my_grid = np.linspace(my_grid_min, my_grid_max, my_num_grid_points)\n",
    "print(my_grid)\n",
    "state_grid, probs = tb.Taucheniid(my_std_dev, my_num_grid_points, mean = my_mean, state_grid = my_grid)  \n",
    "\n",
    "print(\"state grid: \", state_grid)\n",
    "print(\"probs: \", probs)\n",
    "\n",
    "mean = np.sum(state_grid * probs)\n",
    "print(\"mean: \", mean)   \n",
    "\n",
    "std_dev = np.sqrt(np.sum((state_grid - mean)**2 * probs))\n",
    "print(\"std_dev: \", std_dev)"
   ]
  },
  {
   "cell_type": "code",
   "execution_count": 3,
   "metadata": {},
   "outputs": [
    {
     "name": "stdout",
     "output_type": "stream",
     "text": [
      "intial wage coeff grid\n",
      "[[10.    0.   -0.    0.  ]\n",
      " [20.    1.   -0.03  0.  ]\n",
      " [30.    1.   -0.03  0.  ]]\n"
     ]
    }
   ],
   "source": [
    "start_time = time.perf_counter()\n",
    "calib_path= \"C:/Users/Ben/My Drive/PhD/PhD Year 3/3rd Year Paper/Model/My Code/Main_Git_Clone/Model/My Code/my_model_2/output/calibration/\"\n",
    "main_path = \"C:/Users/Ben/My Drive/PhD/PhD Year 3/3rd Year Paper/Model/My Code/Main_Git_Clone/Model/My Code/my_model_2/output/\"\n",
    "\n",
    "# my_lab_FE_grid = np.array([10.0, 20.0, 30.0, 40.0])\n",
    "my_lab_FE_grid = np.array([10.0, 20.0, 30.0])\n",
    "lin_wage_coeffs = [0.0, 1.0, 1.0, 1.0]\n",
    "quad_wage_coeffs = [-0.000, -0.030, -0.030, -0.030] \n",
    "cub_wage_coeffs = [0.0, 0.0, 0.0, 0.0]\n",
    "\n",
    "num_FE_types = len(my_lab_FE_grid)\n",
    "w_coeff_grid = np.zeros([num_FE_types, 4])\n",
    "\n",
    "w_coeff_grid[0, :] = [my_lab_FE_grid[0], lin_wage_coeffs[0], quad_wage_coeffs[0], cub_wage_coeffs[0]]\n",
    "w_coeff_grid[1, :] = [my_lab_FE_grid[1], lin_wage_coeffs[1], quad_wage_coeffs[1], cub_wage_coeffs[1]]\n",
    "w_coeff_grid[2, :] = [my_lab_FE_grid[2], lin_wage_coeffs[2], quad_wage_coeffs[2], cub_wage_coeffs[2]]\n",
    "#w_coeff_grid[3, :] = [my_lab_FE_grid[3], lin_wage_coeffs[3], quad_wage_coeffs[3], cub_wage_coeffs[3]]\n",
    "\n",
    "print(\"intial wage coeff grid\")\n",
    "print(w_coeff_grid)\n",
    "\n",
    "myPars = Pars(main_path, J=50, a_grid_size=100, a_min= -500.0, a_max = 500.0, lab_FE_grid = my_lab_FE_grid,\n",
    "            H_grid=np.array([0.0, 1.0]), nu_grid_size=1, alpha = 0.45, sim_draws=1000,\n",
    "            wage_coeff_grid = w_coeff_grid,\n",
    "            print_screen=3)\n",
    "\n",
    "weighted_wages = model.gen_weighted_wages(myPars)\n",
    "\n",
    "print(weighted_wages[0,0,0,:])\n",
    "print(weighted_wages[1,0,0,:])\n",
    "print(weighted_wages[2,0,0,:])\n",
    "\n",
    "summed_wages = np.sum(weighted_wages, axis=tuple(range(weighted_wages.ndim-1)))\n",
    "print(summed_wages.shape)\n",
    "print(summed_wages)"
   ]
  }
 ],
 "metadata": {
  "kernelspec": {
   "display_name": "spyder-env",
   "language": "python",
   "name": "python3"
  },
  "language_info": {
   "codemirror_mode": {
    "name": "ipython",
    "version": 3
   },
   "file_extension": ".py",
   "mimetype": "text/x-python",
   "name": "python",
   "nbconvert_exporter": "python",
   "pygments_lexer": "ipython3",
   "version": "3.12.3"
  }
 },
 "nbformat": 4,
 "nbformat_minor": 2
}
