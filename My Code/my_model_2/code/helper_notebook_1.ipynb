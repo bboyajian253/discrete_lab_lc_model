{
 "cells": [
  {
   "cell_type": "code",
   "execution_count": 7,
   "metadata": {},
   "outputs": [
    {
     "name": "stdout",
     "output_type": "stream",
     "text": [
      "[10. 20. 30.]\n",
      "state grid:  [10. 20. 30.]\n",
      "probs:  [0.5        0.47724987 0.02275013]\n",
      "mean:  15.227501319481792\n",
      "std_dev:  5.431230941441349\n"
     ]
    }
   ],
   "source": [
    "import my_toolbox as tb\n",
    "import numpy as np\n",
    "import model_no_uncert as model\n",
    "my_mean = 15.0\n",
    "my_std_dev = 5.0\n",
    "my_num_grid_points = 3\n",
    "my_grid_min = 10.0\n",
    "my_grid_max = 30.0\n",
    "my_grid = np.linspace(my_grid_min, my_grid_max, my_num_grid_points)\n",
    "print(my_grid)\n",
    "state_grid, probs = tb.Taucheniid(my_std_dev, my_num_grid_points, mean = my_mean, state_grid = my_grid)  \n",
    "\n",
    "print(\"state grid: \", state_grid)\n",
    "print(\"probs: \", probs)\n",
    "\n",
    "mean = np.sum(state_grid * probs)\n",
    "print(\"mean: \", mean)   \n",
    "\n",
    "std_dev = np.sqrt(np.sum((state_grid - mean)**2 * probs))\n",
    "print(\"std_dev: \", std_dev)"
   ]
  },
  {
   "cell_type": "code",
   "execution_count": null,
   "metadata": {},
   "outputs": [],
   "source": []
  }
 ],
 "metadata": {
  "kernelspec": {
   "display_name": "spyder-env",
   "language": "python",
   "name": "python3"
  },
  "language_info": {
   "codemirror_mode": {
    "name": "ipython",
    "version": 3
   },
   "file_extension": ".py",
   "mimetype": "text/x-python",
   "name": "python",
   "nbconvert_exporter": "python",
   "pygments_lexer": "ipython3",
   "version": "3.12.3"
  }
 },
 "nbformat": 4,
 "nbformat_minor": 2
}
