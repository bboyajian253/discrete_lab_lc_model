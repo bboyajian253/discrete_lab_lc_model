{
 "cells": [
  {
   "cell_type": "code",
   "execution_count": 2,
   "metadata": {},
   "outputs": [],
   "source": [
    "# import stuff\n",
    "#General\n",
    "\n",
    "#My Code\n",
    "import io_manager as io\n",
    "import plot_moments\n",
    "from pars_shocks import Pars\n",
    "\n",
    "main_path = \"C:/Users/Ben/My Drive/PhD/PhD Year 3/3rd Year Paper/Model/My Code/MH_Model/my_code/model_uncert/\"\n",
    "trans_path = main_path + \"input/MH_trans/\"\n",
    "out_path = main_path + \"trans_output_test/\"\n",
    "myPars = Pars(main_path, J=51)\n"
   ]
  },
  {
   "cell_type": "code",
   "execution_count": 3,
   "metadata": {},
   "outputs": [],
   "source": [
    "trans_name = \"MH_trans_by_MH_clust_k2_age\"\n",
    "dis_trans_path = trans_path + trans_name + \".csv\" \n",
    "myPars.H_trans = io.read_and_shape_H_trans_full(myPars, dis_trans_path)\n",
    "plot_moments.plot_H_trans_H_type(myPars, out_path, trans_name) \n",
    "\n",
    "trans_name = \"MH_trans_by_MH_clust_50p_age\"\n",
    "dis_trans_path = trans_path + trans_name + \".csv\" \n",
    "myPars.H_trans = io.read_and_shape_H_trans_full(myPars, dis_trans_path)\n",
    "plot_moments.plot_H_trans_H_type(myPars, out_path, trans_name) \n"
   ]
  },
  {
   "cell_type": "code",
   "execution_count": 4,
   "metadata": {},
   "outputs": [],
   "source": [
    "trans_name = \"MH_trans_uncond_age\"\n",
    "dis_trans_path = trans_path + trans_name + \".csv\" \n",
    "my_trans = io.read_and_shape_H_trans_uncond_age(myPars, dis_trans_path)\n",
    "# print(my_trans)\n",
    "myPars.H_trans = my_trans\n",
    "# print(myPars.H_trans)\n",
    "plot_moments.plot_H_trans_uncond(myPars, out_path, trans_name) "
   ]
  },
  {
   "cell_type": "code",
   "execution_count": 10,
   "metadata": {},
   "outputs": [
    {
     "name": "stdout",
     "output_type": "stream",
     "text": [
      "PDF successfully created at C:/Users/Ben/My Drive/PhD/PhD Year 3/3rd Year Paper/Model/My Code/MH_Model/my_code/model_uncert/trans_output_test/MH_trans_uncond.pdf\n",
      "PDF successfully created at C:/Users/Ben/My Drive/PhD/PhD Year 3/3rd Year Paper/Model/My Code/MH_Model/my_code/model_uncert/trans_output_test/MH_trans_by_MH_clust_k2.pdf\n",
      "PDF successfully created at C:/Users/Ben/My Drive/PhD/PhD Year 3/3rd Year Paper/Model/My Code/MH_Model/my_code/model_uncert/trans_output_test/MH_trans_by_MH_clust_k2.pdf\n",
      "PDF successfully created at C:/Users/Ben/My Drive/PhD/PhD Year 3/3rd Year Paper/Model/My Code/MH_Model/my_code/model_uncert/trans_output_test/MH_trans_by_MH_clust_50p.pdf\n",
      "PDF successfully created at C:/Users/Ben/My Drive/PhD/PhD Year 3/3rd Year Paper/Model/My Code/MH_Model/my_code/model_uncert/trans_output_test/MH_trans_by_MH_clust_50p.pdf\n"
     ]
    }
   ],
   "source": [
    "trans_name = \"MH_trans_uncond\"\n",
    "dis_trans_path = trans_path + trans_name + \".csv\" \n",
    "myPars.H_trans = io.read_and_shape_H_trans_uncond(myPars, dis_trans_path)\n",
    "trans= myPars.H_trans[0,0,:,:]\n",
    "io.print_H_trans_to_tex(myPars, trans, out_path, trans_name)\n",
    "\n",
    "trans_name = \"MH_trans_by_MH_clust_k2\"\n",
    "dis_trans_path = trans_path + trans_name + \".csv\" \n",
    "myPars.H_trans = io.read_and_shape_H_trans_H_type(myPars, dis_trans_path)\n",
    "for type_ind in range(myPars.H_type_perm_grid_size):\n",
    "    if type_ind == 0:\n",
    "        type_name = \"low\"\n",
    "    elif type_ind == 1:\n",
    "        type_name = \"high\"\n",
    "    lhs_tex = f\"\\\\Pi_{{H}} \\\\left( u_{{H,k=2}} = \\\\text{{{type_name}}} \\\\right)\"\n",
    "    \n",
    "    trans= myPars.H_trans[type_ind,0,:,:]\n",
    "    my_nf_name = trans_name + f\"_{type_ind}\"\n",
    "    io.print_H_trans_to_tex(myPars, trans, out_path, my_nf_name, tex_lhs_of_equals = lhs_tex)\n",
    "\n",
    "trans_name = \"MH_trans_by_MH_clust_50p\"\n",
    "dis_trans_path = trans_path + trans_name + \".csv\" \n",
    "myPars.H_trans = io.read_and_shape_H_trans_H_type(myPars, dis_trans_path)\n",
    "for type_ind in range(myPars.H_type_perm_grid_size):\n",
    "    if type_ind == 0:\n",
    "        type_name = \"low\"\n",
    "    elif type_ind == 1:\n",
    "        type_name = \"high\"\n",
    "    lhs_tex = f\"\\\\Pi_{{H}} \\\\left( u_{{H,50p}} = \\\\text{{{type_name}}} \\\\right)\"\n",
    "    \n",
    "    trans= myPars.H_trans[type_ind,0,:,:]\n",
    "    my_nf_name = trans_name + f\"_{type_ind}\"\n",
    "    io.print_H_trans_to_tex(myPars, trans, out_path, my_nf_name, tex_lhs_of_equals = lhs_tex)\n"
   ]
  }
 ],
 "metadata": {
  "kernelspec": {
   "display_name": "spyder-env",
   "language": "python",
   "name": "python3"
  },
  "language_info": {
   "codemirror_mode": {
    "name": "ipython",
    "version": 3
   },
   "file_extension": ".py",
   "mimetype": "text/x-python",
   "name": "python",
   "nbconvert_exporter": "python",
   "pygments_lexer": "ipython3",
   "version": "3.12.3"
  }
 },
 "nbformat": 4,
 "nbformat_minor": 2
}
