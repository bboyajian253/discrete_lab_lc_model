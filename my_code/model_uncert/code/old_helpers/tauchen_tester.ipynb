{
 "cells": [
  {
   "cell_type": "code",
   "execution_count": 13,
   "metadata": {},
   "outputs": [
    {
     "name": "stdout",
     "output_type": "stream",
     "text": [
      "Using default health transition matrix\n"
     ]
    }
   ],
   "source": [
    "import my_toolbox as tb\n",
    "import numpy as np\n",
    "import calibration as calib\n",
    "import main\n",
    "import importlib\n",
    "\n",
    "importlib.reload(main)\n",
    "\n",
    "main_path = \"C:/Users/Ben/My Drive/PhD/PhD Year 3/3rd Year Paper/Model/My Code/MH_Model/my_code/model_uncert/\"\n",
    "my_lab_fe_grid = np.log(np.array([5.0, 10.0, 15.0, 20.0]))\n",
    "myPars = main.pars_factory(main_path, my_lab_fe_grid = my_lab_fe_grid) \n",
    "\n",
    "\n"
   ]
  },
  {
   "cell_type": "code",
   "execution_count": 34,
   "metadata": {},
   "outputs": [
    {
     "name": "stdout",
     "output_type": "stream",
     "text": [
      "Tauch weights: [0.01350746 0.5835354  0.39951823 0.00343891]\n",
      "Tauchen grid: [ 5. 10. 15. 20.]\n",
      "Tauch mean: 11.964442972449088\n",
      "Tauch variance: 6.81049716158292\n",
      "Given mu: 12.0, model mu moment: 14.012624713585774, target mu moment: 12.5\n",
      "Given sigma: 2.035, model sigma moment: 3.498356415657919, target sigma moment: 3.5\n"
     ]
    }
   ],
   "source": [
    "importlib.reload(calib)\n",
    "mu = 12.0\n",
    "sigma = 2.035\n",
    "\n",
    "mu_mom_targ = 12.5\n",
    "sigma_mom_targ = 3.5\n",
    "# my_grid = np.array([0, 1, 2, 3, 4, 5, 6, 7, 8, 9, 10])\n",
    "# my_grid = np.log(np.array([5.0, 10.0, 15.0, 20.0]))\n",
    "my_grid = np.array([5.0, 10.0, 15.0, 20.0])\n",
    "# my_grid = np.array([5.0, 10.0, 15.0, 20.0, 25.0, 30.0])\n",
    "\n",
    "tauch_weights, tauch_grid = tb.Taucheniid(sigma,len(my_grid), Nsd = 3, mean = mu, state_grid = my_grid)\n",
    "myPars.lab_fe_weights = tauch_weights \n",
    "mean = np.sum(tauch_weights*tauch_grid)\n",
    "variance = np.sum(tauch_weights*(tauch_grid - mean)**2)\n",
    "# print tauch results\n",
    "print(f\"Tauch weights: {tauch_weights}\")\n",
    "print(f\"Tauchen grid: {tauch_grid}\")\n",
    "print(f\"Tauch mean: {mean}\")\n",
    "print(f\"Tauch variance: {variance}\")\n",
    "\n",
    "# compute model moments to match\n",
    "my_w0_mu_mom = calib.w0_mu_moment(myPars)\n",
    "print(f\"Given mu: {mu}, model mu moment: {my_w0_mu_mom}, target mu moment: {mu_mom_targ}\")\n",
    "my_w0_sigma_mom = calib.w0_sigma_moment(myPars)\n",
    "print(f\"Given sigma: {sigma}, model sigma moment: {my_w0_sigma_mom}, target sigma moment: {sigma_mom_targ}\")"
   ]
  }
 ],
 "metadata": {
  "kernelspec": {
   "display_name": "spyder-env",
   "language": "python",
   "name": "python3"
  },
  "language_info": {
   "codemirror_mode": {
    "name": "ipython",
    "version": 3
   },
   "file_extension": ".py",
   "mimetype": "text/x-python",
   "name": "python",
   "nbconvert_exporter": "python",
   "pygments_lexer": "ipython3",
   "version": "3.11.7"
  }
 },
 "nbformat": 4,
 "nbformat_minor": 2
}
