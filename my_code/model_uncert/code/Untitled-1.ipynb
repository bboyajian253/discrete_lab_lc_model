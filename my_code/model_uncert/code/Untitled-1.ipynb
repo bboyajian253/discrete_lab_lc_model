{
 "cells": [
  {
   "cell_type": "code",
   "execution_count": 1,
   "metadata": {},
   "outputs": [],
   "source": [
    "from numba import njit\n",
    "import numpy as np\n",
    "\n",
    "@njit\n",
    "def collapse_axis_numba(arr: np.ndarray) -> np.ndarray:\n",
    "    ndim = arr.ndim\n",
    "    axis = []\n",
    "    for i in range(ndim):\n",
    "        axis.append(i)\n",
    "    axis = tuple(axis)\n",
    "    return axis\n",
    "        \n",
    "\n",
    "my_arr = np.ones((3, 3, 3))\n",
    "print(collapse_axis_numba(my_arr))\n",
    "    \n"
   ]
  }
 ],
 "metadata": {
  "kernelspec": {
   "display_name": "spyder-env",
   "language": "python",
   "name": "python3"
  },
  "language_info": {
   "codemirror_mode": {
    "name": "ipython",
    "version": 3
   },
   "file_extension": ".py",
   "mimetype": "text/x-python",
   "name": "python",
   "nbconvert_exporter": "python",
   "pygments_lexer": "ipython3",
   "version": "3.12.6"
  }
 },
 "nbformat": 4,
 "nbformat_minor": 2
}
