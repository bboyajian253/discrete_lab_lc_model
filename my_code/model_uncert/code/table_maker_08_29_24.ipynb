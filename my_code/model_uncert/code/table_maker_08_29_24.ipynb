{
 "cells": [
  {
   "cell_type": "code",
   "execution_count": 1,
   "metadata": {},
   "outputs": [],
   "source": [
    "# import stuff\n",
    "#General\n",
    "\n",
    "#My Code\n",
    "import io_manager as io\n",
    "import plot_moments\n",
    "from pars_shocks import Pars\n",
    "import my_toolbox as tb\n",
    "\n",
    "main_path = \"C:/Users/Ben/My Drive/PhD/PhD Year 3/3rd Year Paper/Model/My Code/MH_Model/my_code/model_uncert/\"\n",
    "trans_path = main_path + \"input/MH_trans/\"\n",
    "out_path = main_path + \"trans_output_test/\"\n",
    "myPars = Pars(main_path, J=51)\n"
   ]
  },
  {
   "cell_type": "code",
   "execution_count": 2,
   "metadata": {},
   "outputs": [],
   "source": [
    "trans_name = \"MH_trans_by_MH_clust_k2_age\"\n",
    "dis_trans_path = trans_path + trans_name + \".csv\" \n",
    "myPars.H_trans = io.read_and_shape_H_trans_full(myPars, dis_trans_path)\n",
    "plot_moments.plot_H_trans_H_type(myPars, out_path, trans_name) \n",
    "\n",
    "trans_name = \"MH_trans_by_MH_clust_50p_age\"\n",
    "dis_trans_path = trans_path + trans_name + \".csv\" \n",
    "myPars.H_trans = io.read_and_shape_H_trans_full(myPars, dis_trans_path)\n",
    "plot_moments.plot_H_trans_H_type(myPars, out_path, trans_name) \n"
   ]
  },
  {
   "cell_type": "code",
   "execution_count": 3,
   "metadata": {},
   "outputs": [],
   "source": [
    "trans_name = \"MH_trans_uncond_age\"\n",
    "dis_trans_path = trans_path + trans_name + \".csv\" \n",
    "my_trans = io.read_and_shape_H_trans_uncond_age(myPars, dis_trans_path)\n",
    "# print(my_trans)\n",
    "myPars.H_trans = my_trans\n",
    "# print(myPars.H_trans)\n",
    "plot_moments.plot_H_trans_uncond(myPars, out_path, trans_name) "
   ]
  },
  {
   "cell_type": "code",
   "execution_count": 4,
   "metadata": {},
   "outputs": [
    {
     "name": "stdout",
     "output_type": "stream",
     "text": [
      "PDF successfully created at C:/Users/Ben/My Drive/PhD/PhD Year 3/3rd Year Paper/Model/My Code/MH_Model/my_code/model_uncert/trans_output_test/MH_trans_uncond.pdf\n",
      "PDF successfully created at C:/Users/Ben/My Drive/PhD/PhD Year 3/3rd Year Paper/Model/My Code/MH_Model/my_code/model_uncert/trans_output_test/MH_trans_by_MH_clust_k2_0.pdf\n",
      "PDF successfully created at C:/Users/Ben/My Drive/PhD/PhD Year 3/3rd Year Paper/Model/My Code/MH_Model/my_code/model_uncert/trans_output_test/MH_trans_by_MH_clust_k2_1.pdf\n",
      "PDF successfully created at C:/Users/Ben/My Drive/PhD/PhD Year 3/3rd Year Paper/Model/My Code/MH_Model/my_code/model_uncert/trans_output_test/MH_trans_by_MH_clust_50p_0.pdf\n",
      "PDF successfully created at C:/Users/Ben/My Drive/PhD/PhD Year 3/3rd Year Paper/Model/My Code/MH_Model/my_code/model_uncert/trans_output_test/MH_trans_by_MH_clust_50p_1.pdf\n"
     ]
    }
   ],
   "source": [
    "trans_name = \"MH_trans_uncond\"\n",
    "dis_trans_path = trans_path + trans_name + \".csv\" \n",
    "myPars.H_trans = io.read_and_shape_H_trans_uncond(myPars, dis_trans_path)\n",
    "trans= myPars.H_trans[0,0,:,:]\n",
    "io.print_H_trans_to_tex(myPars, trans, out_path, trans_name)\n",
    "\n",
    "trans_name = \"MH_trans_by_MH_clust_k2\"\n",
    "dis_trans_path = trans_path + trans_name + \".csv\" \n",
    "myPars.H_trans = io.read_and_shape_H_trans_H_type(myPars, dis_trans_path)\n",
    "for type_ind in range(myPars.H_type_perm_grid_size):\n",
    "    if type_ind == 0:\n",
    "        type_name = \"low\"\n",
    "    elif type_ind == 1:\n",
    "        type_name = \"high\"\n",
    "    lhs_tex = f\"\\\\Pi_{{H}} \\\\left( u_{{H,k=2}} = \\\\text{{{type_name}}} \\\\right)\"\n",
    "    \n",
    "    trans= myPars.H_trans[type_ind,0,:,:]\n",
    "    my_nf_name = trans_name + f\"_{type_ind}\"\n",
    "    io.print_H_trans_to_tex(myPars, trans, out_path, my_nf_name, tex_lhs_of_equals = lhs_tex)\n",
    "\n",
    "trans_name = \"MH_trans_by_MH_clust_50p\"\n",
    "dis_trans_path = trans_path + trans_name + \".csv\" \n",
    "myPars.H_trans = io.read_and_shape_H_trans_H_type(myPars, dis_trans_path)\n",
    "for type_ind in range(myPars.H_type_perm_grid_size):\n",
    "    if type_ind == 0:\n",
    "        type_name = \"low\"\n",
    "    elif type_ind == 1:\n",
    "        type_name = \"high\"\n",
    "    lhs_tex = f\"\\\\Pi_{{H}} \\\\left( u_{{H,50p}} = \\\\text{{{type_name}}} \\\\right)\"\n",
    "    \n",
    "    trans= myPars.H_trans[type_ind,0,:,:]\n",
    "    my_nf_name = trans_name + f\"_{type_ind}\"\n",
    "    io.print_H_trans_to_tex(myPars, trans, out_path, my_nf_name, tex_lhs_of_equals = lhs_tex)\n"
   ]
  },
  {
   "cell_type": "code",
   "execution_count": 5,
   "metadata": {},
   "outputs": [
    {
     "name": "stdout",
     "output_type": "stream",
     "text": [
      "[[0.36683968 0.36397704 0.4072378  0.45254377 0.47089562        nan]\n",
      " [0.3753773  0.37627357 0.41752702 0.45815882 0.47603071 0.07205222]]\n",
      "PDF successfully created at C:/Users/Ben/My Drive/PhD/PhD Year 3/3rd Year Paper/Model/My Code/MH_Model/my_code/model_uncert/trans_output_test/tab_MH_type_reg_r2\n"
     ]
    }
   ],
   "source": [
    "r2_path = trans_path + \"MH_type_reg_r2.csv\"\n",
    "my_r2_mat = tb.read_matrix_from_csv(r2_path, column_index = 0)\n",
    "print(my_r2_mat)\n",
    "io.table_r2_by_type_alg(myPars, my_r2_mat, out_path, \"tab_MH_type_reg_r2\")"
   ]
  },
  {
   "cell_type": "code",
   "execution_count": 6,
   "metadata": {},
   "outputs": [
    {
     "name": "stdout",
     "output_type": "stream",
     "text": [
      "[[[0.75270027 0.24729975]\n",
      "  [0.53708732 0.46291265]]\n",
      "\n",
      " [[0.20334896 0.79665107]\n",
      "  [0.10277858 0.89722145]]]\n",
      "[[[0.85517973 0.1448203 ]\n",
      "  [0.71741933 0.28258064]]\n",
      "\n",
      " [[0.38501057 0.6149894 ]\n",
      "  [0.16947505 0.83052498]]]\n",
      "PDF successfully created at C:/Users/Ben/My Drive/PhD/PhD Year 3/3rd Year Paper/Model/My Code/MH_Model/my_code/model_uncert/trans_output_test/H_trans_by_type_alg_test.pdf\n"
     ]
    }
   ],
   "source": [
    "\n",
    "trans_name = \"MH_trans_by_MH_clust_50p\"\n",
    "dis_trans_path = trans_path + trans_name + \".csv\" \n",
    "trans_50p = tb.read_matrix_from_csv(dis_trans_path, column_index = 0).reshape(2,2,2)\n",
    "print(trans_50p)\n",
    "\n",
    "trans_name = \"MH_trans_by_MH_clust_k2\"\n",
    "dis_trans_path = trans_path + trans_name + \".csv\" \n",
    "trans_k2 = tb.read_matrix_from_csv(dis_trans_path, column_index=0).reshape(2,2,2)\n",
    "print(trans_k2)\n",
    "\n",
    "io.table_H_trans_by_type_alg(myPars, trans_50p, trans_k2, out_path)"
   ]
  }
 ],
 "metadata": {
  "kernelspec": {
   "display_name": "spyder-env",
   "language": "python",
   "name": "python3"
  },
  "language_info": {
   "codemirror_mode": {
    "name": "ipython",
    "version": 3
   },
   "file_extension": ".py",
   "mimetype": "text/x-python",
   "name": "python",
   "nbconvert_exporter": "python",
   "pygments_lexer": "ipython3",
   "version": "3.12.3"
  }
 },
 "nbformat": 4,
 "nbformat_minor": 2
}
