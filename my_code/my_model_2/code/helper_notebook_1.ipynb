{
 "cells": [
  {
   "cell_type": "code",
   "execution_count": 1,
   "metadata": {},
   "outputs": [
    {
     "name": "stdout",
     "output_type": "stream",
     "text": [
      "[10. 20. 30.]\n",
      "state grid:  [10. 20. 30.]\n",
      "probs:  [0.5        0.47724987 0.02275013]\n",
      "mean:  15.227501319481792\n",
      "std_dev:  5.431230941441349\n"
     ]
    }
   ],
   "source": [
    "import my_toolbox as tb\n",
    "import numpy as np\n",
    "import model_no_uncert as model\n",
    "import model_no_uncert as model\n",
    "import numpy as np\n",
    "from pars_shocks_and_wages import Pars\n",
    "import time\n",
    "my_mean = 15.0\n",
    "my_std_dev = 5.0\n",
    "my_num_grid_points = 3\n",
    "my_grid_min = 10.0\n",
    "my_grid_max = 30.0\n",
    "my_grid = np.linspace(my_grid_min, my_grid_max, my_num_grid_points)\n",
    "print(my_grid)\n",
    "state_grid, probs = tb.Taucheniid(my_std_dev, my_num_grid_points, mean = my_mean, state_grid = my_grid)  \n",
    "\n",
    "print(\"state grid: \", state_grid)\n",
    "print(\"probs: \", probs)\n",
    "\n",
    "mean = np.sum(state_grid * probs)\n",
    "print(\"mean: \", mean)   \n",
    "\n",
    "std_dev = np.sqrt(np.sum((state_grid - mean)**2 * probs))\n",
    "print(\"std_dev: \", std_dev)"
   ]
  },
  {
   "cell_type": "code",
   "execution_count": 2,
   "metadata": {},
   "outputs": [
    {
     "name": "stdout",
     "output_type": "stream",
     "text": [
      "intial wage coeff grid\n",
      "[[10.    0.   -0.    0.  ]\n",
      " [20.    1.   -0.03  0.  ]\n",
      " [30.    1.   -0.03  0.  ]]\n",
      "[1.66666667 1.66666667 1.66666667 1.66666667 1.66666667 1.66666667\n",
      " 1.66666667 1.66666667 1.66666667 1.66666667 1.66666667 1.66666667\n",
      " 1.66666667 1.66666667 1.66666667 1.66666667 1.66666667 1.66666667\n",
      " 1.66666667 1.66666667 1.66666667 1.66666667 1.66666667 1.66666667\n",
      " 1.66666667 1.66666667 1.66666667 1.66666667 1.66666667 1.66666667\n",
      " 1.66666667 1.66666667 1.66666667 1.66666667 1.66666667 1.66666667\n",
      " 1.66666667 1.66666667 1.66666667 1.66666667 1.66666667 1.66666667\n",
      " 1.66666667 1.66666667 1.66666667 1.66666667 1.66666667 1.66666667\n",
      " 1.66666667 1.66666667]\n",
      "[3.33333333e+00 3.49500000e+00 3.64666667e+00 3.78833333e+00\n",
      " 3.92000000e+00 4.04166667e+00 4.15333333e+00 4.25500000e+00\n",
      " 4.34666667e+00 4.42833333e+00 4.50000000e+00 4.56166667e+00\n",
      " 4.61333333e+00 4.65500000e+00 4.68666667e+00 4.70833333e+00\n",
      " 4.72000000e+00 4.72166667e+00 4.71333333e+00 4.69500000e+00\n",
      " 4.66666667e+00 4.62833333e+00 4.58000000e+00 4.52166667e+00\n",
      " 4.45333333e+00 4.37500000e+00 4.28666667e+00 4.18833333e+00\n",
      " 4.08000000e+00 3.96166667e+00 3.83333333e+00 3.69500000e+00\n",
      " 3.54666667e+00 3.38833333e+00 3.22000000e+00 3.04166667e+00\n",
      " 2.85333333e+00 2.65500000e+00 2.44666667e+00 2.22833333e+00\n",
      " 2.00000000e+00 1.76166667e+00 1.51333333e+00 1.25500000e+00\n",
      " 9.86666667e-01 7.08333333e-01 4.20000000e-01 1.21666667e-01\n",
      " 1.66666667e-05 1.66666667e-05]\n",
      "[5.         5.16166667 5.31333333 5.455      5.58666667 5.70833333\n",
      " 5.82       5.92166667 6.01333333 6.095      6.16666667 6.22833333\n",
      " 6.28       6.32166667 6.35333333 6.375      6.38666667 6.38833333\n",
      " 6.38       6.36166667 6.33333333 6.295      6.24666667 6.18833333\n",
      " 6.12       6.04166667 5.95333333 5.855      5.74666667 5.62833333\n",
      " 5.5        5.36166667 5.21333333 5.055      4.88666667 4.70833333\n",
      " 4.52       4.32166667 4.11333333 3.895      3.66666667 3.42833333\n",
      " 3.18       2.92166667 2.65333333 2.375      2.08666667 1.78833333\n",
      " 1.48       1.16166667]\n",
      "(50,)\n",
      "[20.         20.64666667 21.25333333 21.82       22.34666667 22.83333333\n",
      " 23.28       23.68666667 24.05333333 24.38       24.66666667 24.91333333\n",
      " 25.12       25.28666667 25.41333333 25.5        25.54666667 25.55333333\n",
      " 25.52       25.44666667 25.33333333 25.18       24.98666667 24.75333333\n",
      " 24.48       24.16666667 23.81333333 23.42       22.98666667 22.51333333\n",
      " 22.         21.44666667 20.85333333 20.22       19.54666667 18.83333333\n",
      " 18.08       17.28666667 16.45333333 15.58       14.66666667 13.71333333\n",
      " 12.72       11.68666667 10.61333333  9.5         8.34666667  7.15333333\n",
      "  6.29336667  5.6567    ]\n"
     ]
    }
   ],
   "source": [
    "start_time = time.perf_counter()\n",
    "calib_path= \"C:/Users/Ben/My Drive/PhD/PhD Year 3/3rd Year Paper/Model/My Code/Main_Git_Clone/Model/My Code/my_model_2/output/calibration/\"\n",
    "main_path = \"C:/Users/Ben/My Drive/PhD/PhD Year 3/3rd Year Paper/Model/My Code/Main_Git_Clone/Model/My Code/my_model_2/output/\"\n",
    "\n",
    "# my_lab_fe_grid = np.array([10.0, 20.0, 30.0, 40.0])\n",
    "my_lab_fe_grid = np.array([10.0, 20.0, 30.0])\n",
    "lin_wage_coeffs = [0.0, 1.0, 1.0, 1.0]\n",
    "quad_wage_coeffs = [-0.000, -0.030, -0.030, -0.030] \n",
    "cub_wage_coeffs = [0.0, 0.0, 0.0, 0.0]\n",
    "\n",
    "num_FE_types = len(my_lab_fe_grid)\n",
    "w_coeff_grid = np.zeros([num_FE_types, 4])\n",
    "\n",
    "w_coeff_grid[0, :] = [my_lab_fe_grid[0], lin_wage_coeffs[0], quad_wage_coeffs[0], cub_wage_coeffs[0]]\n",
    "w_coeff_grid[1, :] = [my_lab_fe_grid[1], lin_wage_coeffs[1], quad_wage_coeffs[1], cub_wage_coeffs[1]]\n",
    "w_coeff_grid[2, :] = [my_lab_fe_grid[2], lin_wage_coeffs[2], quad_wage_coeffs[2], cub_wage_coeffs[2]]\n",
    "#w_coeff_grid[3, :] = [my_lab_fe_grid[3], lin_wage_coeffs[3], quad_wage_coeffs[3], cub_wage_coeffs[3]]\n",
    "\n",
    "print(\"intial wage coeff grid\")\n",
    "print(w_coeff_grid)\n",
    "\n",
    "myPars = Pars(main_path, J=50, a_grid_size=100, a_min= -500.0, a_max = 500.0, lab_fe_grid = my_lab_fe_grid,\n",
    "            H_grid=np.array([0.0, 1.0]), nu_grid_size=1, alpha = 0.45, sim_draws=1000,\n",
    "            wage_coeff_grid = w_coeff_grid,\n",
    "            print_screen=3)\n",
    "\n",
    "weighted_wages = model.gen_weighted_wages(myPars)\n",
    "\n",
    "print(weighted_wages[0,0,0,:])\n",
    "print(weighted_wages[1,0,0,:])\n",
    "print(weighted_wages[2,0,0,:])\n",
    "\n",
    "summed_wages = np.sum(weighted_wages, axis=tuple(range(weighted_wages.ndim-1)))\n",
    "print(summed_wages.shape)\n",
    "print(summed_wages)"
   ]
  }
 ],
 "metadata": {
  "kernelspec": {
   "display_name": "spyder-env",
   "language": "python",
   "name": "python3"
  },
  "language_info": {
   "codemirror_mode": {
    "name": "ipython",
    "version": 3
   },
   "file_extension": ".py",
   "mimetype": "text/x-python",
   "name": "python",
   "nbconvert_exporter": "python",
   "pygments_lexer": "ipython3",
   "version": "3.12.3"
  }
 },
 "nbformat": 4,
 "nbformat_minor": 2
}
